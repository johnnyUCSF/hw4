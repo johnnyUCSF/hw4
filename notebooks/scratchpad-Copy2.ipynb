{
 "cells": [
  {
   "cell_type": "code",
   "execution_count": 1,
   "metadata": {
    "collapsed": false
   },
   "outputs": [],
   "source": [
    "import pandas as pd\n",
    "import numpy as np\n",
    "import matplotlib.pyplot as plt\n",
    "import copy\n",
    "import random"
   ]
  },
  {
   "cell_type": "code",
   "execution_count": 2,
   "metadata": {
    "collapsed": false
   },
   "outputs": [],
   "source": [
    "###create test data\n",
    "inputs = ['10000000','01000000','00100000','00010000','00001000','00000100','00000010','00000001']\n",
    "outputs = copy.deepcopy(inputs)"
   ]
  },
  {
   "cell_type": "code",
   "execution_count": 3,
   "metadata": {
    "collapsed": false
   },
   "outputs": [],
   "source": [
    "\n",
    "def setup_arch(example):\n",
    "    #####setup architecture for N3N neural net\n",
    "    #####returns parameters\n",
    "    #####layer 1\n",
    "    output_1 = example\n",
    "    size_1 = len(output_1)\n",
    "    #####layer 2\n",
    "    size_2 = 3\n",
    "    output_2 = []\n",
    "    bias_2 = []\n",
    "    weights_2 = []\n",
    "    for i in range(size_2):\n",
    "        tmp_weight = []\n",
    "        for j in range(size_1):\n",
    "            tmp_weight.append(random.uniform(0,1))\n",
    "        weights_2.append(tmp_weight)\n",
    "    #####layer 3 this is output layer\n",
    "    size_3 = size_1\n",
    "    output_3 = []\n",
    "    bias_3 = []\n",
    "    weights_3 = []\n",
    "    ##firing: 0 = no, 1 = yes\n",
    "    firing = []\n",
    "    for i in range(size_3):\n",
    "        tmp_weight = []\n",
    "        for j in range(size_2):\n",
    "            tmp_weight.append(random.uniform(0,1))\n",
    "        weights_3.append(tmp_weight)\n",
    "        ##\n",
    "        firing.append(0)\n",
    "    #######format and return\n",
    "    outputs = [output_1,output_2,output_3]\n",
    "    sizes = [size_1,size_2,size_3]\n",
    "    weights = [weights_2,weights_3]\n",
    "    bias = [bias_2,bias_3]\n",
    "    ####\n",
    "    return(outputs,sizes,weights,bias,firing)\n",
    "\n",
    "def forward_propagate(outputs,sizes,weights,bias,firing):\n",
    "    #####forward propagate\n",
    "    #####returns error for a particular example and set of parameters\n",
    "    ####readin parameters\n",
    "    output_1 = outputs[0]\n",
    "    output_2 = outputs[1]\n",
    "    output_3 = outputs[2]\n",
    "    size_1 = sizes[0]\n",
    "    size_2 = sizes[1]\n",
    "    size_3 = sizes[2]\n",
    "    weights_2 = weights[0]\n",
    "    weights_3 = weights[1]\n",
    "    bias_2 = bias[0]\n",
    "    bias_3 = bias[1]\n",
    "    #####\n",
    "    ##propagate level 1 to level 2\n",
    "    for i in range(size_2):\n",
    "        ####\n",
    "        sum_i = 0.0\n",
    "        for j in range(size_1):\n",
    "            sum_i += weights_2[i][j]*float(output_1[j])\n",
    "        ####\n",
    "        output_2.append(sum_i)\n",
    "    ##propagate level 2 to level 3\n",
    "    for i in range(size_3):\n",
    "        ####\n",
    "        sum_i = 0.0\n",
    "        for j in range(size_2):\n",
    "            sum_i += weights_3[i][j]*float(output_2[j])\n",
    "        ####\n",
    "        output_3.append(sum_i)\n",
    "    ######normalize values of output layer by max value\n",
    "    level3_max = max(output_3)\n",
    "    for i in range(size_3):\n",
    "        tmp = copy.deepcopy(output_3[i]/level3_max)\n",
    "        output_3[i] = copy.deepcopy(tmp)\n",
    "    ######gate neurons\n",
    "    for i in range(size_3):\n",
    "        if output_3[i]>0.5:\n",
    "            firing[i] = 1\n",
    "        else:\n",
    "            firing[i] = 0\n",
    "    ######calculate error\n",
    "    error = 0.0\n",
    "    for i in range(size_3):\n",
    "        if int(firing[i]) != int(output_1[i]):\n",
    "            error += 1\n",
    "    error = 0.5*(error*error)\n",
    "    return(error)\n"
   ]
  },
  {
   "cell_type": "code",
   "execution_count": 4,
   "metadata": {
    "collapsed": false
   },
   "outputs": [],
   "source": [
    "\n",
    "outputs,sizes,weights,bias,firing = setup_arch(inputs[0])\n",
    "\n",
    "all_errors = []\n",
    "for example in inputs:\n",
    "    output_1 = copy.deepcopy(example)\n",
    "    error = forward_propagate(outputs,sizes,weights,bias,firing)\n",
    "    all_errors.append(error)\n",
    "                              "
   ]
  },
  {
   "cell_type": "code",
   "execution_count": 5,
   "metadata": {
    "collapsed": false
   },
   "outputs": [],
   "source": [
    "\n",
    "# for error in all_errors:\n",
    "    "
   ]
  },
  {
   "cell_type": "code",
   "execution_count": 6,
   "metadata": {
    "collapsed": false
   },
   "outputs": [
    {
     "data": {
      "text/plain": [
       "[12.5, 8.0, 8.0, 4.5, 4.5, 4.5, 2.0, 2.0]"
      ]
     },
     "execution_count": 6,
     "metadata": {},
     "output_type": "execute_result"
    }
   ],
   "source": [
    "all_errors"
   ]
  },
  {
   "cell_type": "code",
   "execution_count": null,
   "metadata": {
    "collapsed": false
   },
   "outputs": [],
   "source": []
  },
  {
   "cell_type": "code",
   "execution_count": null,
   "metadata": {
    "collapsed": true
   },
   "outputs": [],
   "source": []
  }
 ],
 "metadata": {
  "kernelspec": {
   "display_name": "Python 3",
   "language": "python",
   "name": "python3"
  },
  "language_info": {
   "codemirror_mode": {
    "name": "ipython",
    "version": 3
   },
   "file_extension": ".py",
   "mimetype": "text/x-python",
   "name": "python",
   "nbconvert_exporter": "python",
   "pygments_lexer": "ipython3",
   "version": "3.6.1"
  }
 },
 "nbformat": 4,
 "nbformat_minor": 2
}
