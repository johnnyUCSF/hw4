{
 "cells": [
  {
   "cell_type": "markdown",
   "metadata": {},
   "source": [
    "## Question 2\n",
    "### Implement 17x3x1 Neural network and show it can solve Rap1 binding site problem."
   ]
  },
  {
   "cell_type": "code",
   "execution_count": 22,
   "metadata": {
    "collapsed": true
   },
   "outputs": [],
   "source": [
    "from hw4 import neuralnetwork as NN\n",
    "from hw4 import encoding as EN\n",
    "import numpy as np\n",
    "import timeit\n",
    "import pandas as pd"
   ]
  },
  {
   "cell_type": "markdown",
   "metadata": {},
   "source": [
    "#### I have encoded my DNA sequences into bits using the following structure:\n",
    "    encode DNA into 2 bits per base\n",
    "    00 = A\n",
    "    01 = T\n",
    "    10 = C\n",
    "    11 = G\n",
    "#### For example if I have input AAT into my encoder it will return\n",
    "    \n",
    "    AAT = input\n",
    "    00 00 01 = 000001 = output\n",
    "    \n",
    "#### I store this output as a string to preserve the binary format for now.\n",
    "#### I will then turn the total string into a list ie [0,0,0,0,0,1] of floats which will be used as the input layer for the NN.\n",
    "\n",
    "#### Here is a demonstration:"
   ]
  },
  {
   "cell_type": "code",
   "execution_count": 21,
   "metadata": {},
   "outputs": [
    {
     "name": "stdout",
     "output_type": "stream",
     "text": [
      "Here is my input DNA:\n",
      "ATCG\n",
      "Here is the output from my encoding:\n",
      "00011011\n",
      "Here is what the input will look like for the NN:\n",
      "[ 0.  0.  0.  1.  1.  0.  1.  1.]\n"
     ]
    }
   ],
   "source": [
    "print('Here is my input DNA:')\n",
    "test = 'ATCG'\n",
    "print(test)\n",
    "\n",
    "print('Here is the output from my encoding:')\n",
    "result = EN.encode_dna(test)\n",
    "print(result)\n",
    "\n",
    "print('Here is what the input will look like for the NN:')\n",
    "print(NN.transform_string(result))"
   ]
  },
  {
   "cell_type": "markdown",
   "metadata": {
    "collapsed": true
   },
   "source": [
    "#### Therefore if we have an input of DNA base size = 17, then the input for the NN will be length 34 in binary"
   ]
  }
 ],
 "metadata": {
  "kernelspec": {
   "display_name": "Python 3",
   "language": "python",
   "name": "python3"
  },
  "language_info": {
   "codemirror_mode": {
    "name": "ipython",
    "version": 3
   },
   "file_extension": ".py",
   "mimetype": "text/x-python",
   "name": "python",
   "nbconvert_exporter": "python",
   "pygments_lexer": "ipython3",
   "version": "3.6.7"
  }
 },
 "nbformat": 4,
 "nbformat_minor": 2
}
