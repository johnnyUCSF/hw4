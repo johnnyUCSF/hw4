{
 "cells": [
  {
   "cell_type": "markdown",
   "metadata": {},
   "source": [
    "## 5.\n",
    "### Generate output from test set for evaluation by TAs."
   ]
  },
  {
   "cell_type": "markdown",
   "metadata": {},
   "source": [
    "#### First train model"
   ]
  },
  {
   "cell_type": "code",
   "execution_count": 2,
   "metadata": {},
   "outputs": [],
   "source": [
    "# Load libraries\n",
    "import pandas as pd\n",
    "import copy\n",
    "import numpy as np\n",
    "import timeit\n",
    "import matplotlib.pyplot as plt\n",
    "####\n",
    "from Bio import pairwise2\n",
    "from Bio.Seq import Seq\n",
    "from Bio.Alphabet import generic_dna, generic_protein\n",
    "####\n",
    "from hw4 import neuralnetwork as NN\n",
    "from hw4 import encoding as EN"
   ]
  },
  {
   "cell_type": "code",
   "execution_count": 5,
   "metadata": {},
   "outputs": [],
   "source": [
    "####read in filtered negatives\n",
    "with open('test/negs_filtd.txt', 'r') as file:\n",
    "    neg = file.read().splitlines()\n",
    "####read in positives\n",
    "with open('test/pos_filtd.txt', 'r') as file:\n",
    "    pos = file.read().splitlines()\n",
    "####\n",
    "neg_encoded,pos_encoded = EN.encode_pos_neg(neg,pos,17)"
   ]
  },
  {
   "cell_type": "code",
   "execution_count": 8,
   "metadata": {},
   "outputs": [
    {
     "name": "stdout",
     "output_type": "stream",
     "text": [
      "Time:  2.1515799439512193\n"
     ]
    }
   ],
   "source": [
    "####define parameters\n",
    "num_parts = 7\n",
    "#####split up data\n",
    "neg_chunks,pos_chunks = NN.chunk_kfold(num_parts,neg_encoded,pos_encoded)\n",
    "#####format training data and get outputs\n",
    "training_inputs,training_outputs = NN.format_trainingdata(neg_chunks,pos_chunks)\n",
    "######define parameters\n",
    "step_size = 0.2\n",
    "iterations = 5\n",
    "######start time\n",
    "start = timeit.default_timer()\n",
    "#####setup model\n",
    "model = NN.NeuralNet(68,8,1,step_size,0.01)\n",
    "#####perform k-fold cross validation\n",
    "for i in range(len(training_inputs)):\n",
    "    train_inputs = []\n",
    "    train_outputs = []\n",
    "    for j in range(len(training_inputs)):\n",
    "        if i != j:\n",
    "            for item in training_inputs[j]:\n",
    "                train_inputs.append(item)\n",
    "            for item in training_outputs[j]:\n",
    "                train_outputs.append(item)\n",
    "    #######\n",
    "    model = NN.train_model(iterations,train_inputs,train_outputs,model)\n",
    "######\n",
    "total_inputs = []\n",
    "total_outputs = []\n",
    "for i in range(len(training_inputs)):\n",
    "    for j in range(len(training_inputs[i])):\n",
    "        total_inputs.append(training_inputs[i][j])\n",
    "        total_outputs.append(training_outputs[i][j])\n",
    "pos_predicted,pos_true,neg_predicted,neg_true = NN.call_results(total_inputs,total_outputs,model)\n",
    "accuracy = NN.evaluate_accuracy(pos_predicted,pos_true,neg_predicted,neg_true)\n",
    "#######stop time\n",
    "stop = timeit.default_timer()\n",
    "####print time\n",
    "print('Time: ', stop - start)  "
   ]
  },
  {
   "cell_type": "markdown",
   "metadata": {},
   "source": [
    "#### Now put true holdout data into model for testing."
   ]
  },
  {
   "cell_type": "code",
   "execution_count": 10,
   "metadata": {},
   "outputs": [],
   "source": [
    "testset = pd.read_csv('rap1-lieb-test.txt',header=None)[0].tolist()\n",
    "neg_encoded,pos_encoded = EN.encode_pos_neg(testset,testset,17)"
   ]
  },
  {
   "cell_type": "code",
   "execution_count": 18,
   "metadata": {},
   "outputs": [],
   "source": [
    "with open('test/predictions.txt', 'w') as file:\n",
    "    for i in range(len(pos_encoded)):\n",
    "        model.prop_forward(NN.transform_string(pos_encoded[i]),NN.transform_string('1'))\n",
    "        ####\n",
    "        file.write(testset[i])\n",
    "        file.write('\\t')\n",
    "        file.write(str(float(model.layer3_activation)))\n",
    "        file.write('\\n')"
   ]
  }
 ],
 "metadata": {
  "kernelspec": {
   "display_name": "Python 3",
   "language": "python",
   "name": "python3"
  },
  "language_info": {
   "codemirror_mode": {
    "name": "ipython",
    "version": 3
   },
   "file_extension": ".py",
   "mimetype": "text/x-python",
   "name": "python",
   "nbconvert_exporter": "python",
   "pygments_lexer": "ipython3",
   "version": "3.6.7"
  }
 },
 "nbformat": 4,
 "nbformat_minor": 2
}
